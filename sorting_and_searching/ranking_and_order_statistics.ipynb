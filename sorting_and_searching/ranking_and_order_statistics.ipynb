{
 "cells": [
  {
   "cell_type": "markdown",
   "metadata": {
    "collapsed": true
   },
   "source": [
    "## Quick select"
   ]
  },
  {
   "cell_type": "code",
   "execution_count": 7,
   "metadata": {
    "collapsed": true
   },
   "outputs": [],
   "source": [
    "\"\"\"Quick select\n",
    "   @Author: Kexuan (Klaus) Zou\n",
    "   @Date: 06/18/17\"\"\"\n",
    "\n",
    "def swap(A, first, second):\n",
    "    temp = A[first]\n",
    "    A[first] = A[second]\n",
    "    A[second] = temp\n",
    "\n",
    "def partition(A, lo, hi, index):\n",
    "    pivot = A[index]\n",
    "    swap(A, index, lo)\n",
    "    left, right = lo + 1, hi\n",
    "    while True:\n",
    "        while left <= right and A[left] <= pivot:\n",
    "            left += 1\n",
    "        while left <= right and A[right] >= pivot:\n",
    "            right -= 1\n",
    "        if left <= right:\n",
    "            swap(A, left, right)\n",
    "        else:\n",
    "            break\n",
    "    swap(A, lo, right)\n",
    "    return right\n",
    "\n",
    "def _quick_select(A, lo, hi, k):\n",
    "    if lo == hi:\n",
    "        return A[k]\n",
    "    else:\n",
    "        index = randint(lo, hi)\n",
    "        pivot = partition(A, lo, hi, index)\n",
    "        if k < pivot:\n",
    "            return _quick_select(A, lo, pivot - 1, k)\n",
    "        elif k > pivot:\n",
    "            return _quick_select(A, pivot + 1, hi, k)\n",
    "        else:\n",
    "            return A[pivot]\n",
    "\n",
    "def quick_select(A, k):\n",
    "    return _quick_select(A, 0, len(A) - 1, k-1)"
   ]
  },
  {
   "cell_type": "code",
   "execution_count": 8,
   "metadata": {
    "collapsed": false
   },
   "outputs": [
    {
     "name": "stdout",
     "output_type": "stream",
     "text": [
      "[3529, 2110, -893, 6363, -9056, -3344, 2857, -6619, 4405, -9312, -2206, -1239, 1961, 8392, -1628, -3700, -8972, 1562, -4708, 8641]\n",
      "1961\n",
      "[-9312, -4708, -8972, -3700, -9056, -3344, -2206, -6619, -1628, -893, 1562, -1239, 1961, 8392, 3529, 6363, 4405, 2857, 2110, 8641]\n"
     ]
    }
   ],
   "source": [
    "from random import randint\n",
    "dataList = []\n",
    "for i in range(20):\n",
    "    dataList.append(randint(-10000, 10000))\n",
    "print(dataList)\n",
    "print(quick_select(dataList, 13))\n",
    "print(dataList)"
   ]
  },
  {
   "cell_type": "markdown",
   "metadata": {},
   "source": [
    "## Quick select with median of medians"
   ]
  },
  {
   "cell_type": "code",
   "execution_count": 11,
   "metadata": {
    "collapsed": true
   },
   "outputs": [],
   "source": [
    "\"\"\"Quick select with median of medians\n",
    "   @Author: Kexuan (Klaus) Zou\n",
    "   @Date: 06/19/17\"\"\"\n",
    "from math import floor\n",
    "\n",
    "def partition_value(A, pivot):\n",
    "    left = []\n",
    "    right = []\n",
    "    for i in A:\n",
    "        if i < pivot:\n",
    "            left.append(i)\n",
    "        elif i > pivot:\n",
    "            right.append(i)\n",
    "    return (left, right)\n",
    "\n",
    "def _quick_select_5(A, k):\n",
    "    cells = []\n",
    "    for i in range(0, len(A), 5):\n",
    "        cells.append(A[i:i+5])\n",
    "    medians = []\n",
    "    for cell in cells:\n",
    "        medians.append(sorted(cell)[floor((len(cell) - 1)/2)])\n",
    "    if len(medians) <= 5:\n",
    "        pivot = sorted(medians)[floor((len(medians) - 1)/2)]\n",
    "    else:\n",
    "        pivot = _quick_select_5(medians, floor((len(medians) - 1)/2))\n",
    "    (left, right) = partition_value(A, pivot)\n",
    "    lo = len(left)\n",
    "    if k < lo:\n",
    "        return _quick_select_5(left, k)\n",
    "    elif k > lo:\n",
    "        return _quick_select_5(right, k-lo-1)\n",
    "    else:\n",
    "        return pivot\n",
    "\n",
    "def quick_select_5(A, k):\n",
    "    return _quick_select_5(A, k-1)"
   ]
  },
  {
   "cell_type": "code",
   "execution_count": 12,
   "metadata": {
    "collapsed": false
   },
   "outputs": [
    {
     "name": "stdout",
     "output_type": "stream",
     "text": [
      "[6644, 8355, 4778, 4096, 631, 8874, 6788, -9301, 4092, 7242, -5012, 9083, 1642, 3093, 5610, -1122, -3085, 7930, -587, 4074]\n",
      "-587\n"
     ]
    }
   ],
   "source": [
    "from random import randint\n",
    "dataList = []\n",
    "for i in range(20):\n",
    "    dataList.append(randint(-10000, 10000))\n",
    "print(dataList)\n",
    "print(quick_select_5(dataList, 5))"
   ]
  },
  {
   "cell_type": "code",
   "execution_count": null,
   "metadata": {
    "collapsed": true
   },
   "outputs": [],
   "source": []
  }
 ],
 "metadata": {
  "kernelspec": {
   "display_name": "Python 3",
   "language": "python",
   "name": "python3"
  },
  "language_info": {
   "codemirror_mode": {
    "name": "ipython",
    "version": 3
   },
   "file_extension": ".py",
   "mimetype": "text/x-python",
   "name": "python",
   "nbconvert_exporter": "python",
   "pygments_lexer": "ipython3",
   "version": "3.6.0"
  }
 },
 "nbformat": 4,
 "nbformat_minor": 2
}
