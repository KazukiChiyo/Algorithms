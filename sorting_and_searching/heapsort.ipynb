{
 "cells": [
  {
   "cell_type": "markdown",
   "metadata": {},
   "source": [
    "## Min-Heap"
   ]
  },
  {
   "cell_type": "code",
   "execution_count": 22,
   "metadata": {
    "collapsed": false
   },
   "outputs": [],
   "source": [
    "\"\"\"Min-Heap Implementation\n",
    "   @Author: Kexuan (Klaus) Zou\n",
    "   @date: 06/19/17\"\"\"\n",
    "\n",
    "from math import floor\n",
    "class Heap:\n",
    "    def __init__(self, *args, **kwargs):\n",
    "        self.elems = []\n",
    "        self.elems.append(0)\n",
    "        if args:\n",
    "            _size = len(args[0])\n",
    "            for i in range(0, _size):\n",
    "                self.elems.append(args[0][i])\n",
    "            for i in range(_size, 0, -1):\n",
    "                self.heapifyDown(i)\n",
    "    \n",
    "    def root(self):\n",
    "        return 1\n",
    "    \n",
    "    def leftChild(self, index):\n",
    "        return 2*index\n",
    "    \n",
    "    def rightChild(self, index):\n",
    "        return 2*index + 1\n",
    "    \n",
    "    def parent(self, index):\n",
    "        return floor(index/2)\n",
    "    \n",
    "    def hasChild(self, index):\n",
    "        return self.leftChild(index) <= self.size()\n",
    "    \n",
    "    def priority(self, first, second):\n",
    "        return self.elems[first] <= self.elems[second]\n",
    "    \n",
    "    def selectChild(self, index):\n",
    "        if not self.hasChild(index):\n",
    "            return -1\n",
    "        left, right = self.leftChild(index), self.rightChild(index)\n",
    "        if left == self.size():\n",
    "            return left\n",
    "        elif self.priority(left, right):\n",
    "            return left\n",
    "        else:\n",
    "            return right\n",
    "    \n",
    "    def heapifyDown(self, index):\n",
    "        if self.hasChild(index):\n",
    "            child = self.selectChild(index)\n",
    "            if child != -1:\n",
    "                if self.priority(child, index):\n",
    "                    self.swap(child, index)\n",
    "                    self.heapifyDown(child)\n",
    "    \n",
    "    def heapifyUp(self, index):\n",
    "        if index != self.root():\n",
    "            parent = self.parent(index)\n",
    "            if self.priority(index, parent):\n",
    "                self.swap(index, parent)\n",
    "                self.heapifyUp(child)\n",
    "    \n",
    "    def push(self, value):\n",
    "        self.elems.append(value)\n",
    "        self.heapifyUp(self.size)\n",
    "    \n",
    "    def front(self):\n",
    "        return self.elems[1]\n",
    "    \n",
    "    def pop(self):\n",
    "        if self.empty():\n",
    "            return 0\n",
    "        head = self.front()\n",
    "        self.elems[1] = self.elems[self.size()]\n",
    "        del self.elems[self.size()]\n",
    "        self.heapifyDown(1)\n",
    "        return head\n",
    "    \n",
    "    def empty(self):\n",
    "        return self.size() == 0\n",
    "    \n",
    "    def size(self):\n",
    "        return len(self.elems) - 1\n",
    "    \n",
    "    def swap(self, first, second):\n",
    "        temp = self.elems[first]\n",
    "        self.elems[first] = self.elems[second]\n",
    "        self.elems[second] = temp\n",
    "        \n",
    "def heap_sort(A):\n",
    "    sortedList = []\n",
    "    heap = Heap(A)\n",
    "    while not heap.empty():\n",
    "        sortedList.append(heap.pop())\n",
    "    return sortedList"
   ]
  },
  {
   "cell_type": "code",
   "execution_count": 23,
   "metadata": {
    "collapsed": false
   },
   "outputs": [
    {
     "name": "stdout",
     "output_type": "stream",
     "text": [
      "[501, 6855, 7752, 8549, 9244, 8182, 4718, 221, 186, 7291, 41, 3024, 2486, 7675, 6986, 7086, 2196, 4264, 5085, 6494]\n",
      "[41, 186, 221, 501, 2196, 2486, 3024, 4264, 4718, 5085, 6494, 6855, 6986, 7086, 7291, 7675, 7752, 8182, 8549, 9244]\n"
     ]
    }
   ],
   "source": [
    "from random import randint\n",
    "dataList = []\n",
    "for i in range(20):\n",
    "    dataList.append(randint(0, 10000))\n",
    "print(dataList)\n",
    "print(heap_sort(dataList))"
   ]
  }
 ],
 "metadata": {
  "kernelspec": {
   "display_name": "Python 3",
   "language": "python",
   "name": "python3"
  },
  "language_info": {
   "codemirror_mode": {
    "name": "ipython",
    "version": 3
   },
   "file_extension": ".py",
   "mimetype": "text/x-python",
   "name": "python",
   "nbconvert_exporter": "python",
   "pygments_lexer": "ipython3",
   "version": "3.6.0"
  }
 },
 "nbformat": 4,
 "nbformat_minor": 2
}
