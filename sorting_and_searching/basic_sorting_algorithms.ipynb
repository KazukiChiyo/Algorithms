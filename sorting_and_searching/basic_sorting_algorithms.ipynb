{
 "cells": [
  {
   "cell_type": "markdown",
   "metadata": {},
   "source": [
    "## Insertion sort"
   ]
  },
  {
   "cell_type": "code",
   "execution_count": 9,
   "metadata": {
    "collapsed": true
   },
   "outputs": [],
   "source": [
    "\"\"\"Insertion sort\n",
    "   @Author: Kexuan (Klaus) Zou\n",
    "   @Date: 06/16/17\"\"\"\n",
    "\n",
    "def insertion_sort(A):\n",
    "    size = len(A)\n",
    "    for i in range(1, size):\n",
    "        x = A[i]\n",
    "        j = i - 1\n",
    "        while j >= 0 and A[j] > x:\n",
    "            A[j+1] = A[j]\n",
    "            j -= 1\n",
    "        A[j+1] = x\n",
    "    return A"
   ]
  },
  {
   "cell_type": "code",
   "execution_count": 12,
   "metadata": {
    "collapsed": false,
    "scrolled": true
   },
   "outputs": [
    {
     "name": "stdout",
     "output_type": "stream",
     "text": [
      "[3496, 9592, 9765, 8007, 8907, 7277, 6633, 6224, 1903, 5471, 1192, 6929, 2823, 6307, 7939, 9586, 6583, 682, 9401, 250]\n",
      "[250, 682, 1192, 1903, 2823, 3496, 5471, 6224, 6307, 6583, 6633, 6929, 7277, 7939, 8007, 8907, 9401, 9586, 9592, 9765]\n"
     ]
    }
   ],
   "source": [
    "from random import randint\n",
    "dataList = []\n",
    "for i in range(20):\n",
    "    dataList.append(randint(0, 10000))\n",
    "print(dataList)\n",
    "print(insertion_sort(dataList))"
   ]
  },
  {
   "cell_type": "markdown",
   "metadata": {},
   "source": [
    "## Merge sort"
   ]
  },
  {
   "cell_type": "code",
   "execution_count": 21,
   "metadata": {
    "collapsed": false
   },
   "outputs": [],
   "source": [
    "\"\"\"Merge sort\n",
    "   @Author: Kexuan (Klaus) Zou\n",
    "   @Date: 06/16/17\"\"\"\n",
    "\n",
    "def merge_sort(A):\n",
    "    if len(A) <= 1:\n",
    "        return A\n",
    "    mid = int(len(A)/2)\n",
    "    left = merge_sort(A[:mid])\n",
    "    right = merge_sort(A[mid:])\n",
    "    return merge(left, right)\n",
    "\n",
    "def merge(left, right):\n",
    "    result = []\n",
    "    l, r = 0, 0\n",
    "    while l < len(left) and r < len(right):\n",
    "        if left[l] < right[r]:\n",
    "            result.append(left[l])\n",
    "            l+=1\n",
    "        else:\n",
    "            result.append(right[r])\n",
    "            r+=1\n",
    "    if l < len(left):\n",
    "        result += left[l:]\n",
    "    else:\n",
    "        result += right[r:]\n",
    "    return result"
   ]
  },
  {
   "cell_type": "code",
   "execution_count": 23,
   "metadata": {
    "collapsed": false
   },
   "outputs": [
    {
     "name": "stdout",
     "output_type": "stream",
     "text": [
      "[9155, 8896, 411, 1116, 1209, 2039, 445, 7461, 4927, 8614, 1263, 2494, 5407, 7719, 1312, 1767, 5544, 7460, 4851, 6018]\n",
      "[411, 445, 1116, 1209, 1263, 1312, 1767, 2039, 2494, 4851, 4927, 5407, 5544, 6018, 7460, 7461, 7719, 8614, 8896, 9155]\n"
     ]
    }
   ],
   "source": [
    "from random import randint\n",
    "dataList = []\n",
    "for i in range(20):\n",
    "    dataList.append(randint(0, 10000))\n",
    "print(dataList)\n",
    "print(merge_sort(dataList))"
   ]
  },
  {
   "cell_type": "markdown",
   "metadata": {},
   "source": [
    "## Quick sort"
   ]
  },
  {
   "cell_type": "code",
   "execution_count": 4,
   "metadata": {
    "collapsed": false
   },
   "outputs": [],
   "source": [
    "\"\"\"Quick sort\n",
    "   @Author: Kexuan (Klaus) Zou\n",
    "   @Date: 06/16/17\"\"\"\n",
    "\n",
    "def swap(A, first, second):\n",
    "    temp = A[first]\n",
    "    A[first] = A[second]\n",
    "    A[second] = temp\n",
    "\n",
    "def partition(A, lo, hi, index):\n",
    "    pivot = A[index]\n",
    "    swap(A, index, lo)\n",
    "    left, right = lo + 1, hi\n",
    "    while True:\n",
    "        while left <= right and A[left] <= pivot:\n",
    "            left += 1\n",
    "        while left <= right and A[right] >= pivot:\n",
    "            right -= 1\n",
    "        if left <= right:\n",
    "            swap(A, left, right)\n",
    "        else:\n",
    "            break\n",
    "    swap(A, lo, right)\n",
    "    return right\n",
    "    \n",
    "\n",
    "def _quick_sort(A, lo, hi):\n",
    "    if lo < hi:\n",
    "        index = randint(lo, hi)\n",
    "        pivot = partition(A, lo, hi, index)\n",
    "        _quick_sort(A, lo, pivot - 1)\n",
    "        _quick_sort(A, pivot + 1, hi)\n",
    "    return A\n",
    "\n",
    "def quick_sort(A):\n",
    "    return _quick_sort(A, 0, len(A) - 1)"
   ]
  },
  {
   "cell_type": "code",
   "execution_count": 5,
   "metadata": {
    "collapsed": false
   },
   "outputs": [
    {
     "name": "stdout",
     "output_type": "stream",
     "text": [
      "[-6593, 7576, -9026, -8051, 7506, 9389, 4059, 802, -8720, -3083, -8370, -7429, 2226, -4204, -7581, 2423, -6972, -180, 5771, 1659]\n",
      "[-9026, -8720, -8370, -8051, -7581, -7429, -6972, -6593, -4204, -3083, -180, 802, 1659, 2226, 2423, 4059, 5771, 7506, 7576, 9389]\n"
     ]
    }
   ],
   "source": [
    "from random import randint\n",
    "dataList = []\n",
    "for i in range(20):\n",
    "    dataList.append(randint(-10000, 10000))\n",
    "print(dataList)\n",
    "print(quick_sort(dataList))"
   ]
  }
 ],
 "metadata": {
  "kernelspec": {
   "display_name": "Python 3",
   "language": "python",
   "name": "python3"
  },
  "language_info": {
   "codemirror_mode": {
    "name": "ipython",
    "version": 3
   },
   "file_extension": ".py",
   "mimetype": "text/x-python",
   "name": "python",
   "nbconvert_exporter": "python",
   "pygments_lexer": "ipython3",
   "version": "3.6.0"
  }
 },
 "nbformat": 4,
 "nbformat_minor": 2
}
